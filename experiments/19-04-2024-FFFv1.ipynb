{
 "cells": [
  {
   "cell_type": "code",
   "execution_count": 272,
   "metadata": {},
   "outputs": [],
   "source": [
    "import torch, torch.functional as F\n",
    "from torch import nn, tensor\n",
    "from fastcore.all import *\n",
    "from math import sqrt"
   ]
  },
  {
   "cell_type": "code",
   "execution_count": 273,
   "metadata": {},
   "outputs": [],
   "source": [
    "class MoeEinops(nn.Module):\n",
    "    def __init__(self, in_dim, out_dim, h_dim, n_exp, topk):\n",
    "        store_attr()\n",
    "        super().__init__()\n",
    "        self.ns = nn.Parameter(torch.randn(n_exp, in_dim))\n",
    "        self.w1 = nn.Parameter(torch.randn(n_exp, h_dim, in_dim))\n",
    "        self.w2 = nn.Parameter(torch.randn(n_exp, out_dim, h_dim))\n",
    "        self.act = nn.ReLU()\n",
    "        \n",
    "    def forward(self, x):\n",
    "        probs, indices = torch.matmul(x, self.ns.T).topk(self.topk)\n",
    "        probs = torch.softmax(probs, dim=-1)\n",
    "        x = torch.einsum('bx,bkyx -> bky', x, self.w1[indices])\n",
    "        x = torch.einsum('bkx,bkyx -> bky', self.act(x), self.w2[indices])\n",
    "        return torch.einsum('bky,bk -> by', x, probs)"
   ]
  },
  {
   "cell_type": "code",
   "execution_count": 274,
   "metadata": {},
   "outputs": [],
   "source": [
    "in_dim = 1024\n",
    "h_dim = 1024\n",
    "out_dim = 1024\n",
    "n_exp = 16\n",
    "bs = 32\n",
    "topk=1\n",
    "\n",
    "model = MoeEinops(in_dim, out_dim, h_dim, n_exp, topk).cuda()"
   ]
  },
  {
   "cell_type": "code",
   "execution_count": 275,
   "metadata": {},
   "outputs": [],
   "source": [
    "from FastFF.models import moe\n",
    "\n",
    "model2 = moe.MoE(in_dim, out_dim, n_exp, topk, hidden_dim=h_dim).cuda()\n",
    "\n",
    "# copy all parameters \n",
    "model2.gate[0].weight = model.ns\n",
    "model2.experts[0][0].weight.shape\n",
    "for i, e in enumerate(model2.experts):\n",
    "    e[0].weight = nn.Parameter(model.w1[i])\n",
    "    e[2].weight = nn.Parameter(model.w2[i])\n",
    "    e[0].bias=nn.Parameter(e[0].bias*0)\n",
    "    e[2].bias=nn.Parameter(e[2].bias*0)"
   ]
  },
  {
   "cell_type": "code",
   "execution_count": 276,
   "metadata": {},
   "outputs": [],
   "source": [
    "x = torch.randn(bs, in_dim).cuda()"
   ]
  },
  {
   "cell_type": "code",
   "execution_count": 277,
   "metadata": {},
   "outputs": [
    {
     "data": {
      "text/plain": [
       "tensor(0.0197, device='cuda:0')"
      ]
     },
     "execution_count": 277,
     "metadata": {},
     "output_type": "execute_result"
    }
   ],
   "source": [
    "sim = torch.isclose(model(x), model2(x))\n",
    "(sim==False).sum()/(sim==True).sum()"
   ]
  },
  {
   "cell_type": "code",
   "execution_count": 278,
   "metadata": {},
   "outputs": [
    {
     "name": "stdout",
     "output_type": "stream",
     "text": [
      "833 µs ± 253 µs per loop (mean ± std. dev. of 7 runs, 100 loops each)\n"
     ]
    }
   ],
   "source": [
    "%timeit -n 100 with torch.no_grad(): model(x)"
   ]
  },
  {
   "cell_type": "code",
   "execution_count": 279,
   "metadata": {},
   "outputs": [
    {
     "name": "stdout",
     "output_type": "stream",
     "text": [
      "4.87 ms ± 339 µs per loop (mean ± std. dev. of 7 runs, 100 loops each)\n"
     ]
    }
   ],
   "source": [
    "%timeit -n 100  with torch.no_grad(): model2(x)"
   ]
  },
  {
   "cell_type": "markdown",
   "metadata": {},
   "source": [
    "## FFF"
   ]
  },
  {
   "cell_type": "code",
   "execution_count": 297,
   "metadata": {},
   "outputs": [],
   "source": [
    "def binary(x, bits):\n",
    "    'converts integer vector into binary with number of `bits`'\n",
    "    mask = 2**torch.arange(bits, device=x.device, dtype=x.dtype)\n",
    "    return x.unsqueeze(-1).bitwise_and(mask).ne(0).byte()\n",
    "\n",
    "class FFF(nn.Module):\n",
    "    def __init__(self, in_dim, out_dim, h_dim, depth, topk, save_probs=True):\n",
    "        store_attr()\n",
    "        super().__init__()\n",
    "        self.n = 2**depth\n",
    "        self.nodes = nn.Parameter(torch.randn(self.n-1, in_dim))\n",
    "        self.w1 = nn.Parameter(torch.randn(self.n, h_dim, in_dim))\n",
    "        self.w2 = nn.Parameter(torch.randn(self.n, out_dim, h_dim))\n",
    "        self.act = nn.ReLU()\n",
    "        self.tree_act = nn.LogSigmoid()\n",
    "        self.t = self.init_t_()\n",
    "        self.s = self.init_s_()\n",
    "        \n",
    "    def init_t_(self):\n",
    "        tree, res = torch.eye(self.n), []\n",
    "        for _ in range(self.depth): \n",
    "            res.append(tree)\n",
    "            tree = tree.view(self.n, -1, 2).sum(-1)\n",
    "        return nn.Parameter(torch.cat(list(reversed(res)),dim=1), False)\n",
    "\n",
    "    def init_s_(self):\n",
    "        s = torch.eye(self.n-1)\n",
    "        return nn.Parameter(torch.stack([s,-s], dim=2).view(self.n-1,2*(self.n-1)), False)\n",
    "    \n",
    "    def forward(self, x):\n",
    "        bs = x.shape[0]\n",
    "        if model.training:\n",
    "            z = x.matmul(self.nodes.T).matmul(self.s)\n",
    "            z = self.tree_act(z).matmul(self.t.T)\n",
    "            if self.save_probs: self.probs = torch.softmax(z,-1)\n",
    "            probs, indices = z.topk(self.topk)\n",
    "            probs = torch.softmax(probs, dim=-1)\n",
    "        else:\n",
    "            indices = torch.zeros(bs, dtype=torch.long, device=x.device)\n",
    "            for _ in range(self.depth):\n",
    "                indices = indices*2 + 1 + (torch.einsum(\"b i, b i -> b\", x, self.nodes[indices])<0).long()\n",
    "            indices = indices[:,None] - self.n+1\n",
    "            probs = torch.ones(bs,1)\n",
    "        x = torch.einsum('bx, bkyx -> bky', x, self.w1[indices])\n",
    "        x = torch.einsum('bkx, bkyx -> bky', self.act(x), self.w2[indices])\n",
    "        return torch.einsum('bky, bk -> by', x, probs) if probs.shape[1]>1 else x[:,0]"
   ]
  },
  {
   "cell_type": "code",
   "execution_count": 298,
   "metadata": {},
   "outputs": [],
   "source": [
    "d = 4\n",
    "fff = FFF(in_dim, out_dim, h_dim, d, topk).cuda()\n",
    "fff2 = moe.FFF(in_dim, out_dim,d, topk, h_dim, save_probs=False).cuda()"
   ]
  },
  {
   "cell_type": "code",
   "execution_count": 282,
   "metadata": {},
   "outputs": [
    {
     "name": "stdout",
     "output_type": "stream",
     "text": [
      "980 µs ± 367 ns per loop (mean ± std. dev. of 7 runs, 1,000 loops each)\n"
     ]
    }
   ],
   "source": [
    "%timeit with torch.no_grad(): model(x)"
   ]
  },
  {
   "cell_type": "code",
   "execution_count": 283,
   "metadata": {},
   "outputs": [
    {
     "name": "stdout",
     "output_type": "stream",
     "text": [
      "4.48 ms ± 23.4 µs per loop (mean ± std. dev. of 7 runs, 100 loops each)\n"
     ]
    }
   ],
   "source": [
    "%timeit with torch.no_grad(): model2(x)"
   ]
  },
  {
   "cell_type": "code",
   "execution_count": 284,
   "metadata": {},
   "outputs": [
    {
     "name": "stdout",
     "output_type": "stream",
     "text": [
      "990 µs ± 310 ns per loop (mean ± std. dev. of 7 runs, 1,000 loops each)\n"
     ]
    }
   ],
   "source": [
    "%timeit with torch.no_grad(): fff(x)"
   ]
  },
  {
   "cell_type": "code",
   "execution_count": 285,
   "metadata": {},
   "outputs": [
    {
     "name": "stdout",
     "output_type": "stream",
     "text": [
      "3.71 ms ± 83.2 µs per loop (mean ± std. dev. of 7 runs, 100 loops each)\n"
     ]
    }
   ],
   "source": [
    "%timeit with torch.no_grad(): fff2(x)"
   ]
  },
  {
   "cell_type": "code",
   "execution_count": 300,
   "metadata": {},
   "outputs": [
    {
     "data": {
      "text/html": [
       "\n",
       "<style>\n",
       "    /* Turns off some styling */\n",
       "    progress {\n",
       "        /* gets rid of default border in Firefox and Opera. */\n",
       "        border: none;\n",
       "        /* Needs to be in here for Safari polyfill so background images work as expected. */\n",
       "        background-size: auto;\n",
       "    }\n",
       "    progress:not([value]), progress:not([value])::-webkit-progress-bar {\n",
       "        background: repeating-linear-gradient(45deg, #7e7e7e, #7e7e7e 10px, #5c5c5c 10px, #5c5c5c 20px);\n",
       "    }\n",
       "    .progress-bar-interrupted, .progress-bar-interrupted::-webkit-progress-bar {\n",
       "        background: #F44336;\n",
       "    }\n",
       "</style>\n"
      ],
      "text/plain": [
       "<IPython.core.display.HTML object>"
      ]
     },
     "metadata": {},
     "output_type": "display_data"
    },
    {
     "data": {
      "text/html": [
       "<table border=\"1\" class=\"dataframe\">\n",
       "  <thead>\n",
       "    <tr style=\"text-align: left;\">\n",
       "      <th>epoch</th>\n",
       "      <th>train_loss</th>\n",
       "      <th>valid_loss</th>\n",
       "      <th>accuracy</th>\n",
       "      <th>time</th>\n",
       "    </tr>\n",
       "  </thead>\n",
       "  <tbody>\n",
       "    <tr>\n",
       "      <td>0</td>\n",
       "      <td>2.324595</td>\n",
       "      <td>1.996237</td>\n",
       "      <td>0.479800</td>\n",
       "      <td>00:24</td>\n",
       "    </tr>\n",
       "    <tr>\n",
       "      <td>1</td>\n",
       "      <td>0.600031</td>\n",
       "      <td>0.542521</td>\n",
       "      <td>0.838300</td>\n",
       "      <td>00:29</td>\n",
       "    </tr>\n",
       "    <tr>\n",
       "      <td>2</td>\n",
       "      <td>0.348043</td>\n",
       "      <td>0.315571</td>\n",
       "      <td>0.913900</td>\n",
       "      <td>00:31</td>\n",
       "    </tr>\n",
       "    <tr>\n",
       "      <td>3</td>\n",
       "      <td>0.300661</td>\n",
       "      <td>0.330586</td>\n",
       "      <td>0.914500</td>\n",
       "      <td>00:32</td>\n",
       "    </tr>\n",
       "    <tr>\n",
       "      <td>4</td>\n",
       "      <td>0.280337</td>\n",
       "      <td>0.277621</td>\n",
       "      <td>0.926100</td>\n",
       "      <td>00:32</td>\n",
       "    </tr>\n",
       "    <tr>\n",
       "      <td>5</td>\n",
       "      <td>0.228776</td>\n",
       "      <td>0.243572</td>\n",
       "      <td>0.934800</td>\n",
       "      <td>00:33</td>\n",
       "    </tr>\n",
       "    <tr>\n",
       "      <td>6</td>\n",
       "      <td>0.238865</td>\n",
       "      <td>0.239752</td>\n",
       "      <td>0.936300</td>\n",
       "      <td>00:32</td>\n",
       "    </tr>\n",
       "    <tr>\n",
       "      <td>7</td>\n",
       "      <td>0.183861</td>\n",
       "      <td>0.220526</td>\n",
       "      <td>0.942800</td>\n",
       "      <td>00:33</td>\n",
       "    </tr>\n",
       "    <tr>\n",
       "      <td>8</td>\n",
       "      <td>0.172563</td>\n",
       "      <td>0.210222</td>\n",
       "      <td>0.944800</td>\n",
       "      <td>00:34</td>\n",
       "    </tr>\n",
       "    <tr>\n",
       "      <td>9</td>\n",
       "      <td>0.182175</td>\n",
       "      <td>0.212213</td>\n",
       "      <td>0.945000</td>\n",
       "      <td>00:35</td>\n",
       "    </tr>\n",
       "  </tbody>\n",
       "</table>"
      ],
      "text/plain": [
       "<IPython.core.display.HTML object>"
      ]
     },
     "metadata": {},
     "output_type": "display_data"
    }
   ],
   "source": [
    "from fastai.callback.wandb import *\n",
    "from FastFF.performance import *\n",
    "from fastai.vision.all import *\n",
    "\n",
    "h_dim = 32\n",
    "d = 4\n",
    "topk = 2\n",
    "bs = 256\n",
    "\n",
    "model = FFF(28*28, 10, h_dim, d, topk)\n",
    "cbs = [ProbsDistrCB(), GetGradCB([model.nodes, model.w1])]\n",
    "Learner(get_mnist_dls(bs), model, loss_func=F.cross_entropy, metrics=accuracy, cbs=cbs).fit_one_cycle(10, lr_max=7e-3)"
   ]
  },
  {
   "cell_type": "code",
   "execution_count": 301,
   "metadata": {},
   "outputs": [
    {
     "data": {
      "image/png": "[encoded data removed]",
      "text/plain": [
       "<Figure size 800x600 with 1 Axes>"
      ]
     },
     "metadata": {},
     "output_type": "display_data"
    }
   ],
   "source": [
    "cbs[0].show(-1)"
   ]
  }
 ],
 "metadata": {
  "kernelspec": {
   "display_name": ".venv",
   "language": "python",
   "name": "python3"
  },
  "language_info": {
   "codemirror_mode": {
    "name": "ipython",
    "version": 3
   },
   "file_extension": ".py",
   "mimetype": "text/x-python",
   "name": "python",
   "nbconvert_exporter": "python",
   "pygments_lexer": "ipython3",
   "version": "3.11.7"
  }
 },
 "nbformat": 4,
 "nbformat_minor": 2
}
