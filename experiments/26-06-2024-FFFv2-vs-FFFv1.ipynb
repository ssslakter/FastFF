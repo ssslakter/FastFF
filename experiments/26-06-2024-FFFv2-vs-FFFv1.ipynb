{
 "cells": [
  {
   "cell_type": "code",
   "execution_count": null,
   "metadata": {},
   "outputs": [],
   "source": [
    "import torch as torch\n",
    "import torch.nn as nn\n",
    "from typing import Optional\n",
    "from math import floor, log2, sqrt\n",
    "import torch.nn.functional as F"
   ]
  },
  {
   "cell_type": "code",
   "execution_count": null,
   "metadata": {},
   "outputs": [],
   "source": [
    "class FFFv1(nn.Module):\n",
    "    def __init__(self, in_dim, out_dim, h_dim, depth, tree_act=nn.LogSigmoid(), topk=None, save_probs=False):\n",
    "        super().__init__()\n",
    "        self.save_probs, self.tree_act, self.depth = save_probs, tree_act, depth\n",
    "        self.n = 2**depth\n",
    "        self.topk = topk or self.n\n",
    "        def uniform(shape, scale): \n",
    "            return nn.Parameter(torch.empty(shape).uniform_(-scale,scale))\n",
    "        self.nodes = uniform((self.n-1, in_dim), scale=1/sqrt(in_dim))\n",
    "        self.w1 = uniform((self.n, h_dim, in_dim), scale=1/sqrt(in_dim))\n",
    "        self.w2 = uniform((self.n, out_dim, h_dim), scale=1/sqrt(h_dim))\n",
    "        self.act = nn.ReLU()\n",
    "        self.t, self.s = self.init_t_(), self.init_s_()\n",
    "\n",
    "    def init_t_(self):\n",
    "        tree, res = torch.eye(self.n), []\n",
    "        for _ in range(self.depth): \n",
    "            res.append(tree)\n",
    "            tree = tree.view(self.n, -1, 2).sum(-1)\n",
    "        return nn.Parameter(torch.cat(list(reversed(res)),dim=1), False)\n",
    "\n",
    "    def init_s_(self):\n",
    "        s = torch.eye(self.n-1)\n",
    "        return nn.Parameter(torch.stack([s,-s], dim=2).view(self.n-1,2*(self.n-1)), False)\n",
    "\n",
    "    def forward(self, x):\n",
    "        bs = x.shape[0]\n",
    "        if self.training:\n",
    "            z = x.matmul(self.nodes.T).matmul(self.s)\n",
    "            z = self.tree_act(z).matmul(self.t.T)\n",
    "            if self.save_probs: self.probs = torch.softmax(z,-1)\n",
    "            probs, indices = z.topk(self.topk)\n",
    "            probs = torch.softmax(probs, dim=-1)\n",
    "        else:\n",
    "            indices = torch.zeros(bs, dtype=torch.long, device=x.device)\n",
    "            for _ in range(self.depth):\n",
    "                indices = indices*2 + 1 + (torch.einsum(\"b i, b i -> b\", x, self.nodes[indices])<0).long()\n",
    "            indices = indices[:,None] - self.n+1\n",
    "            probs = torch.ones(bs,1)\n",
    "        x = torch.einsum('bx, bkyx -> bky', x, self.w1[indices])\n",
    "        x = torch.einsum('bkx, bkyx -> bky', self.act(x), self.w2[indices])\n",
    "        return torch.einsum('bky, bk -> by', x, probs) if probs.shape[1]>1 else x[:,0]"
   ]
  },
  {
   "cell_type": "code",
   "execution_count": null,
   "metadata": {},
   "outputs": [],
   "source": [
    "INIT_STRAT = 'uniform'\n",
    "\n",
    "class FFFv2(nn.Module):\n",
    "    def __init__(self, nIn: int, nOut: int, depth: Optional[int] = None):\n",
    "        super().__init__()\n",
    "        self.depth = depth or int(floor(log2(nIn)))  # depth is the number of decision boundaries\n",
    "        nNodes = 2 ** self.depth - 1\n",
    "\n",
    "        if INIT_STRAT == 'uniform':\n",
    "            # This from orig authors; scaling looks off for self.Y\n",
    "            def create_basis_vectors_of(length, scaling):\n",
    "                return nn.Parameter(torch.empty(nNodes, length).uniform_(-scaling, scaling))\n",
    "            self.X = create_basis_vectors_of(length=nIn, scaling=1/sqrt(nIn))\n",
    "            self.Y = create_basis_vectors_of(length=nOut, scaling=1/sqrt(self.depth + 1))\n",
    "\n",
    "        elif INIT_STRAT == 'hyperspherical-shell':\n",
    "            # Initialize vectors on INPUT/OUTPUT space unit hypersphere\n",
    "            #   (idea: basis vectors should be of unit length).\n",
    "            def create_random_unit_vectors_of(length):\n",
    "                weights = torch.randn(nNodes, length)  # Initialize weights randomly\n",
    "                weights = F.normalize(weights, p=2, dim=-1)  # L2-Normalize along the last dimension\n",
    "                return nn.Parameter(weights)\n",
    "            self.X = create_random_unit_vectors_of(length=nIn)\n",
    "            self.Y = create_random_unit_vectors_of(length=nOut)\n",
    "\n",
    "    def forward(self, x: torch.Tensor):\n",
    "        nBatch, nIn, nOut = x.shape[0], self.X.shape[-1], self.Y.shape[-1]\n",
    "        current_node = torch.zeros(nBatch, dtype=torch.long, device=x.device)\n",
    "\n",
    "        # Walk the tree, assembling y piecemeal\n",
    "        y = torch.zeros((nBatch, nOut), dtype=torch.float, device=x.device)\n",
    "        for _ in range(self.depth):\n",
    "            λ = torch.einsum(\"b i, b i -> b\", x, self.X[current_node])\n",
    "            y += torch.einsum(\"b, b j -> b j\", λ, self.Y[current_node])\n",
    "            branch_choice = (λ > 0).long()\n",
    "            current_node = (current_node * 2) + 1 + branch_choice\n",
    "        return y\n",
    "\n",
    "    def __repr__(self):\n",
    "        return f\"FFF({self.X.shape[-1]}, {self.Y.shape[-1]}, depth={self.depth})\""
   ]
  },
  {
   "cell_type": "code",
   "execution_count": null,
   "metadata": {},
   "outputs": [
    {
     "data": {
      "text/html": [
       "\n",
       "<style>\n",
       "    /* Turns off some styling */\n",
       "    progress {\n",
       "        /* gets rid of default border in Firefox and Opera. */\n",
       "        border: none;\n",
       "        /* Needs to be in here for Safari polyfill so background images work as expected. */\n",
       "        background-size: auto;\n",
       "    }\n",
       "    progress:not([value]), progress:not([value])::-webkit-progress-bar {\n",
       "        background: repeating-linear-gradient(45deg, #7e7e7e, #7e7e7e 10px, #5c5c5c 10px, #5c5c5c 20px);\n",
       "    }\n",
       "    .progress-bar-interrupted, .progress-bar-interrupted::-webkit-progress-bar {\n",
       "        background: #F44336;\n",
       "    }\n",
       "</style>\n"
      ],
      "text/plain": [
       "<IPython.core.display.HTML object>"
      ]
     },
     "metadata": {},
     "output_type": "display_data"
    },
    {
     "data": {
      "text/html": [
       "<table border=\"1\" class=\"dataframe\">\n",
       "  <thead>\n",
       "    <tr style=\"text-align: left;\">\n",
       "      <th>epoch</th>\n",
       "      <th>train_loss</th>\n",
       "      <th>valid_loss</th>\n",
       "      <th>accuracy</th>\n",
       "      <th>time</th>\n",
       "    </tr>\n",
       "  </thead>\n",
       "  <tbody>\n",
       "    <tr>\n",
       "      <td>0</td>\n",
       "      <td>0.888499</td>\n",
       "      <td>0.828826</td>\n",
       "      <td>0.705800</td>\n",
       "      <td>00:10</td>\n",
       "    </tr>\n",
       "    <tr>\n",
       "      <td>1</td>\n",
       "      <td>0.400913</td>\n",
       "      <td>0.560025</td>\n",
       "      <td>0.853600</td>\n",
       "      <td>00:14</td>\n",
       "    </tr>\n",
       "    <tr>\n",
       "      <td>2</td>\n",
       "      <td>0.302955</td>\n",
       "      <td>0.571529</td>\n",
       "      <td>0.851000</td>\n",
       "      <td>00:12</td>\n",
       "    </tr>\n",
       "    <tr>\n",
       "      <td>3</td>\n",
       "      <td>0.254399</td>\n",
       "      <td>0.483818</td>\n",
       "      <td>0.865800</td>\n",
       "      <td>00:11</td>\n",
       "    </tr>\n",
       "    <tr>\n",
       "      <td>4</td>\n",
       "      <td>0.223843</td>\n",
       "      <td>0.471395</td>\n",
       "      <td>0.874800</td>\n",
       "      <td>00:12</td>\n",
       "    </tr>\n",
       "  </tbody>\n",
       "</table>"
      ],
      "text/plain": [
       "<IPython.core.display.HTML object>"
      ]
     },
     "metadata": {},
     "output_type": "display_data"
    },
    {
     "data": {
      "image/png": "[encoded data removed]",
      "text/plain": [
       "<Figure size 600x400 with 1 Axes>"
      ]
     },
     "metadata": {},
     "output_type": "display_data"
    }
   ],
   "source": [
    "from fastai.callback.wandb import *\n",
    "from FastFF.utils import *\n",
    "from fastai.vision.all import *\n",
    "\n",
    "bs = 512\n",
    "params = dict(\n",
    "    in_dim=28*28,\n",
    "    out_dim=10,\n",
    "    h_dim=3,\n",
    "    depth=3,\n",
    "    topk=2)\n",
    "\n",
    "fff = FFFv1(**params)\n",
    "cbs = [ShowGraphCallback()]\n",
    "dls = get_mnist_dls(bs)\n",
    "Learner(dls, fff, loss_func=F.cross_entropy, metrics=accuracy, cbs=cbs).fit_one_cycle(5, lr_max=7e-3)"
   ]
  },
  {
   "cell_type": "code",
   "execution_count": null,
   "metadata": {},
   "outputs": [
    {
     "data": {
      "text/html": [
       "\n",
       "<style>\n",
       "    /* Turns off some styling */\n",
       "    progress {\n",
       "        /* gets rid of default border in Firefox and Opera. */\n",
       "        border: none;\n",
       "        /* Needs to be in here for Safari polyfill so background images work as expected. */\n",
       "        background-size: auto;\n",
       "    }\n",
       "    progress:not([value]), progress:not([value])::-webkit-progress-bar {\n",
       "        background: repeating-linear-gradient(45deg, #7e7e7e, #7e7e7e 10px, #5c5c5c 10px, #5c5c5c 20px);\n",
       "    }\n",
       "    .progress-bar-interrupted, .progress-bar-interrupted::-webkit-progress-bar {\n",
       "        background: #F44336;\n",
       "    }\n",
       "</style>\n"
      ],
      "text/plain": [
       "<IPython.core.display.HTML object>"
      ]
     },
     "metadata": {},
     "output_type": "display_data"
    },
    {
     "data": {
      "text/html": [
       "<table border=\"1\" class=\"dataframe\">\n",
       "  <thead>\n",
       "    <tr style=\"text-align: left;\">\n",
       "      <th>epoch</th>\n",
       "      <th>train_loss</th>\n",
       "      <th>valid_loss</th>\n",
       "      <th>accuracy</th>\n",
       "      <th>time</th>\n",
       "    </tr>\n",
       "  </thead>\n",
       "  <tbody>\n",
       "    <tr>\n",
       "      <td>0</td>\n",
       "      <td>1.219669</td>\n",
       "      <td>0.937554</td>\n",
       "      <td>0.690500</td>\n",
       "      <td>00:11</td>\n",
       "    </tr>\n",
       "    <tr>\n",
       "      <td>1</td>\n",
       "      <td>0.722023</td>\n",
       "      <td>0.622621</td>\n",
       "      <td>0.806200</td>\n",
       "      <td>00:11</td>\n",
       "    </tr>\n",
       "    <tr>\n",
       "      <td>2</td>\n",
       "      <td>0.642424</td>\n",
       "      <td>0.650940</td>\n",
       "      <td>0.798600</td>\n",
       "      <td>00:10</td>\n",
       "    </tr>\n",
       "    <tr>\n",
       "      <td>3</td>\n",
       "      <td>0.603538</td>\n",
       "      <td>0.619926</td>\n",
       "      <td>0.811100</td>\n",
       "      <td>00:10</td>\n",
       "    </tr>\n",
       "    <tr>\n",
       "      <td>4</td>\n",
       "      <td>0.596412</td>\n",
       "      <td>0.609798</td>\n",
       "      <td>0.819200</td>\n",
       "      <td>00:11</td>\n",
       "    </tr>\n",
       "  </tbody>\n",
       "</table>"
      ],
      "text/plain": [
       "<IPython.core.display.HTML object>"
      ]
     },
     "metadata": {},
     "output_type": "display_data"
    },
    {
     "data": {
      "image/png": "[encoded data removed]",
      "text/plain": [
       "<Figure size 600x400 with 1 Axes>"
      ]
     },
     "metadata": {},
     "output_type": "display_data"
    }
   ],
   "source": [
    "bs = 512\n",
    "params = dict(\n",
    "    nIn=28*28,\n",
    "    nOut=10,\n",
    "    depth=3)\n",
    "\n",
    "fff = FFFv2(**params)\n",
    "cbs = [ShowGraphCallback()]\n",
    "dls = get_mnist_dls(bs)\n",
    "Learner(dls, fff, loss_func=F.cross_entropy, metrics=accuracy, cbs=cbs).fit_one_cycle(5, lr_max=7e-3)"
   ]
  },
  {
   "cell_type": "code",
   "execution_count": null,
   "metadata": {},
   "outputs": [],
   "source": [
    "from torch.utils import benchmark\n",
    "\n",
    "def benchmark_model(model, x, cuda=False):\n",
    "    if cuda: model,x = model.cuda(), x.cuda()\n",
    "    return benchmark.Timer(\n",
    "            stmt='model(x)',\n",
    "            globals=locals(),\n",
    "            label=model._get_name(),\n",
    "            description='time',\n",
    "        ).blocked_autorange(min_run_time=0.2)\n",
    "\n",
    "def benchmark_with_params(func, x, params: list, cuda=False):\n",
    "    '''func must accept single parameter from params and return model for `benchmark_model`'''\n",
    "    results= L((benchmark_model(func(p), x, cuda)) for p in progress_bar(params, parent=globals().get('mb',None)))\n",
    "    # take mean and convert to ms\n",
    "    return results.map(lambda x: x.mean*1e3)"
   ]
  },
  {
   "cell_type": "markdown",
   "metadata": {},
   "source": [
    "# CPU"
   ]
  },
  {
   "cell_type": "code",
   "execution_count": null,
   "metadata": {},
   "outputs": [
    {
     "data": {
      "text/html": [
       "\n",
       "<style>\n",
       "    /* Turns off some styling */\n",
       "    progress {\n",
       "        /* gets rid of default border in Firefox and Opera. */\n",
       "        border: none;\n",
       "        /* Needs to be in here for Safari polyfill so background images work as expected. */\n",
       "        background-size: auto;\n",
       "    }\n",
       "    progress:not([value]), progress:not([value])::-webkit-progress-bar {\n",
       "        background: repeating-linear-gradient(45deg, #7e7e7e, #7e7e7e 10px, #5c5c5c 10px, #5c5c5c 20px);\n",
       "    }\n",
       "    .progress-bar-interrupted, .progress-bar-interrupted::-webkit-progress-bar {\n",
       "        background: #F44336;\n",
       "    }\n",
       "</style>\n"
      ],
      "text/plain": [
       "<IPython.core.display.HTML object>"
      ]
     },
     "metadata": {},
     "output_type": "display_data"
    },
    {
     "data": {
      "text/html": [
       "\n",
       "    <div>\n",
       "      <progress value='8' class='' max='8' style='width:300px; height:20px; vertical-align: middle;'></progress>\n",
       "      100.00% [8/8 00:03&lt;00:00]\n",
       "    </div>\n",
       "    "
      ],
      "text/plain": [
       "<IPython.core.display.HTML object>"
      ]
     },
     "metadata": {},
     "output_type": "display_data"
    }
   ],
   "source": [
    "params = dict(\n",
    "    in_dim=28*28,\n",
    "    out_dim=10,\n",
    "    h_dim=1,\n",
    "    depth=1,\n",
    "    topk=2)\n",
    "\n",
    "def get_model(d):\n",
    "    params['depth']=params['h_dim']=d\n",
    "    return FFFv1(**params).eval()\n",
    "\n",
    "depths = [1,2,3,4,5,6,7,8]\n",
    "\n",
    "x = dls.one_batch()[0]\n",
    "\n",
    "res1 = benchmark_with_params(get_model, x,  depths)"
   ]
  },
  {
   "cell_type": "code",
   "execution_count": null,
   "metadata": {},
   "outputs": [
    {
     "data": {
      "text/html": [
       "\n",
       "<style>\n",
       "    /* Turns off some styling */\n",
       "    progress {\n",
       "        /* gets rid of default border in Firefox and Opera. */\n",
       "        border: none;\n",
       "        /* Needs to be in here for Safari polyfill so background images work as expected. */\n",
       "        background-size: auto;\n",
       "    }\n",
       "    progress:not([value]), progress:not([value])::-webkit-progress-bar {\n",
       "        background: repeating-linear-gradient(45deg, #7e7e7e, #7e7e7e 10px, #5c5c5c 10px, #5c5c5c 20px);\n",
       "    }\n",
       "    .progress-bar-interrupted, .progress-bar-interrupted::-webkit-progress-bar {\n",
       "        background: #F44336;\n",
       "    }\n",
       "</style>\n"
      ],
      "text/plain": [
       "<IPython.core.display.HTML object>"
      ]
     },
     "metadata": {},
     "output_type": "display_data"
    },
    {
     "data": {
      "text/html": [
       "\n",
       "    <div>\n",
       "      <progress value='8' class='' max='8' style='width:300px; height:20px; vertical-align: middle;'></progress>\n",
       "      100.00% [8/8 00:04&lt;00:00]\n",
       "    </div>\n",
       "    "
      ],
      "text/plain": [
       "<IPython.core.display.HTML object>"
      ]
     },
     "metadata": {},
     "output_type": "display_data"
    }
   ],
   "source": [
    "params = dict(\n",
    "    nIn=28*28,\n",
    "    nOut=10)\n",
    "\n",
    "res2 = benchmark_with_params(lambda d: FFFv2(depth=d,**params), x,  depths)"
   ]
  },
  {
   "cell_type": "code",
   "execution_count": null,
   "metadata": {},
   "outputs": [
    {
     "data": {
      "text/plain": [
       "<matplotlib.legend.Legend>"
      ]
     },
     "execution_count": null,
     "metadata": {},
     "output_type": "execute_result"
    },
    {
     "data": {
      "image/png": "[encoded data removed]",
      "text/plain": [
       "<Figure size 640x480 with 1 Axes>"
      ]
     },
     "metadata": {},
     "output_type": "display_data"
    }
   ],
   "source": [
    "import matplotlib.pyplot as plt\n",
    "\n",
    "plt.plot(depths, res1, label = 'FFFv1')\n",
    "plt.plot(depths, res2, label = 'FFFv2')\n",
    "plt.ylabel('ms')\n",
    "plt.xlabel('depth')\n",
    "plt.grid()\n",
    "plt.legend()"
   ]
  },
  {
   "cell_type": "markdown",
   "metadata": {},
   "source": [
    "## CUDA"
   ]
  },
  {
   "cell_type": "code",
   "execution_count": null,
   "metadata": {},
   "outputs": [
    {
     "data": {
      "text/html": [
       "\n",
       "<style>\n",
       "    /* Turns off some styling */\n",
       "    progress {\n",
       "        /* gets rid of default border in Firefox and Opera. */\n",
       "        border: none;\n",
       "        /* Needs to be in here for Safari polyfill so background images work as expected. */\n",
       "        background-size: auto;\n",
       "    }\n",
       "    progress:not([value]), progress:not([value])::-webkit-progress-bar {\n",
       "        background: repeating-linear-gradient(45deg, #7e7e7e, #7e7e7e 10px, #5c5c5c 10px, #5c5c5c 20px);\n",
       "    }\n",
       "    .progress-bar-interrupted, .progress-bar-interrupted::-webkit-progress-bar {\n",
       "        background: #F44336;\n",
       "    }\n",
       "</style>\n"
      ],
      "text/plain": [
       "<IPython.core.display.HTML object>"
      ]
     },
     "metadata": {},
     "output_type": "display_data"
    },
    {
     "data": {
      "text/html": [
       "\n",
       "    <div>\n",
       "      <progress value='8' class='' max='8' style='width:300px; height:20px; vertical-align: middle;'></progress>\n",
       "      100.00% [8/8 00:03&lt;00:00]\n",
       "    </div>\n",
       "    "
      ],
      "text/plain": [
       "<IPython.core.display.HTML object>"
      ]
     },
     "metadata": {},
     "output_type": "display_data"
    }
   ],
   "source": [
    "params = dict(\n",
    "    in_dim=28*28,\n",
    "    out_dim=10,\n",
    "    h_dim=1,\n",
    "    depth=1,\n",
    "    topk=2)\n",
    "\n",
    "res1 = benchmark_with_params(get_model, x,  depths, cuda=True)"
   ]
  },
  {
   "cell_type": "code",
   "execution_count": null,
   "metadata": {},
   "outputs": [
    {
     "data": {
      "text/html": [
       "\n",
       "<style>\n",
       "    /* Turns off some styling */\n",
       "    progress {\n",
       "        /* gets rid of default border in Firefox and Opera. */\n",
       "        border: none;\n",
       "        /* Needs to be in here for Safari polyfill so background images work as expected. */\n",
       "        background-size: auto;\n",
       "    }\n",
       "    progress:not([value]), progress:not([value])::-webkit-progress-bar {\n",
       "        background: repeating-linear-gradient(45deg, #7e7e7e, #7e7e7e 10px, #5c5c5c 10px, #5c5c5c 20px);\n",
       "    }\n",
       "    .progress-bar-interrupted, .progress-bar-interrupted::-webkit-progress-bar {\n",
       "        background: #F44336;\n",
       "    }\n",
       "</style>\n"
      ],
      "text/plain": [
       "<IPython.core.display.HTML object>"
      ]
     },
     "metadata": {},
     "output_type": "display_data"
    },
    {
     "data": {
      "text/html": [
       "\n",
       "    <div>\n",
       "      <progress value='8' class='' max='8' style='width:300px; height:20px; vertical-align: middle;'></progress>\n",
       "      100.00% [8/8 00:03&lt;00:00]\n",
       "    </div>\n",
       "    "
      ],
      "text/plain": [
       "<IPython.core.display.HTML object>"
      ]
     },
     "metadata": {},
     "output_type": "display_data"
    }
   ],
   "source": [
    "params = dict(\n",
    "    nIn=28*28,\n",
    "    nOut=10)\n",
    "\n",
    "res2 = benchmark_with_params(lambda d: FFFv2(depth=d,**params), x,  depths, cuda=True)"
   ]
  },
  {
   "cell_type": "code",
   "execution_count": null,
   "metadata": {},
   "outputs": [
    {
     "data": {
      "text/plain": [
       "<matplotlib.legend.Legend>"
      ]
     },
     "execution_count": null,
     "metadata": {},
     "output_type": "execute_result"
    },
    {
     "data": {
      "image/png": "[encoded data removed]",
      "text/plain": [
       "<Figure size 640x480 with 1 Axes>"
      ]
     },
     "metadata": {},
     "output_type": "display_data"
    }
   ],
   "source": [
    "plt.plot(depths, res1, label = 'FFFv1')\n",
    "plt.plot(depths, res2, label = 'FFFv2')\n",
    "plt.ylabel('ms')\n",
    "plt.xlabel('depth')\n",
    "plt.grid()\n",
    "plt.legend()"
   ]
  }
 ],
 "metadata": {
  "kernelspec": {
   "display_name": "python3",
   "language": "python",
   "name": "python3"
  }
 },
 "nbformat": 4,
 "nbformat_minor": 2
}
