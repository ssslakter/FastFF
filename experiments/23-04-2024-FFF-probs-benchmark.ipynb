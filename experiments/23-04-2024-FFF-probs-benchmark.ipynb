{
 "cells": [
  {
   "cell_type": "markdown",
   "metadata": {},
   "source": [
    "# Probabilities computation benchmark\n",
    "This notebook will compare different implementations of part of FFF and MoE that computes probabilities for experts depending on the size of input vector"
   ]
  },
  {
   "cell_type": "code",
   "execution_count": 1,
   "metadata": {},
   "outputs": [],
   "source": [
    "import torch, torch.nn.functional as F, math\n",
    "from torch import nn, tensor\n",
    "from fastcore.all import *\n",
    "from math import sqrt\n",
    "from FastFF.utils import get_mnist_dls"
   ]
  },
  {
   "cell_type": "markdown",
   "metadata": {},
   "source": [
    "All models below have only part that predicts probabilities, we removed the \"experts\" part for now"
   ]
  },
  {
   "cell_type": "markdown",
   "metadata": {},
   "source": [
    "## Original FFF\n",
    "Compute probs layer by layer"
   ]
  },
  {
   "cell_type": "code",
   "execution_count": 2,
   "metadata": {},
   "outputs": [],
   "source": [
    "class FFF0_probs(nn.Module):\n",
    "    def __init__(self, input_width: int, depth: int, activation=nn.ReLU()):\n",
    "        super().__init__()\n",
    "        store_attr()\n",
    "        self.n_leaves = 2 ** depth\n",
    "        def init_uniform(shape, scale):\n",
    "            return nn.Parameter(torch.empty(shape).uniform_(-scale, scale))\n",
    "\n",
    "        l1_init_factor = 1 / math.sqrt(self.input_width)\n",
    "        self.node_weights = init_uniform((self.n_leaves-1, input_width), l1_init_factor)\n",
    "\n",
    "    def forward(self, x: torch.Tensor):\n",
    "        bs = x.shape[0]\n",
    "        current_mixture = torch.ones((bs, self.n_leaves), dtype=torch.float, device=x.device)\n",
    "\n",
    "        for current_depth in range(self.depth):\n",
    "            platform = torch.tensor(2 ** current_depth - 1, dtype=torch.long, device=x.device)\n",
    "            next_platform = torch.tensor(2 ** (current_depth+1) - 1, dtype=torch.long, device=x.device)\n",
    "\n",
    "            n_nodes = 2 ** current_depth\n",
    "            current_weights = self.node_weights[platform:next_platform] \n",
    "\n",
    "            boundary_plane_coeff_scores = torch.matmul(x, current_weights.transpose(0, 1))\n",
    "            boundary_plane_logits = boundary_plane_coeff_scores\n",
    "            boundary_effect = torch.sigmoid(boundary_plane_logits)\n",
    "            not_boundary_effect = 1 - boundary_effect\n",
    "            mixture_modifier = torch.cat( # this cat-fu is to interleavingly combine the two tensors\n",
    "                (not_boundary_effect.unsqueeze(-1), boundary_effect.unsqueeze(-1)),\n",
    "                dim=-1\n",
    "            ).flatten(start_dim=-2, end_dim=-1).unsqueeze(-1)\n",
    "            current_mixture = current_mixture.view(bs, 2 * n_nodes, self.n_leaves // (2 * n_nodes))\n",
    "            current_mixture.mul_(mixture_modifier) \n",
    "            current_mixture = current_mixture.flatten(start_dim=1, end_dim=2)\n",
    "        return current_mixture\n"
   ]
  },
  {
   "cell_type": "markdown",
   "metadata": {},
   "source": [
    "## FFF with logarithms\n",
    "Compute sums of logs layer by layer and then exp"
   ]
  },
  {
   "cell_type": "code",
   "execution_count": 3,
   "metadata": {},
   "outputs": [],
   "source": [
    "class FFF1_probs(nn.Module):\n",
    "    def __init__(self, in_dim, depth, act=nn.ReLU, p=0., hidden_dim = None, leak=0., save_probs=True, eval_fast=False):\n",
    "        super().__init__()\n",
    "        store_attr()\n",
    "        if p != 0: self.dropout = nn.Dropout(p)\n",
    "        self.n_leaves = 2**depth\n",
    "        self.nodes = nn.Linear(in_dim, self.n_leaves-1) if depth!=0 else nn.Identity()\n",
    " \n",
    "    def forward(self, x):\n",
    "        bs = x.shape[0]\n",
    "        logits = self.nodes(x) # (bs, n_leaves-1)\n",
    "        if hasattr(self,'dropout'): logits = self.dropout(logits)\n",
    "        # region leak\n",
    "        logits[torch.rand_like(logits) < self.leak] *=-1    \n",
    "        logprobs = F.logsigmoid(torch.stack([-logits, logits],dim=2)) # (bs, n_leaves-1, 2)\n",
    "        probs = torch.zeros([bs,self.n_leaves], device=x.device)      # (bs, n_leaves)\n",
    "        for d in range(self.depth):\n",
    "            mask = logprobs[:, 2**d-1 : 2**(d+1)-1].view(bs,-1, 1)    # (bs, 2*2**d, 1)\n",
    "            probs = probs.view(bs, 2**(d+1), -1) + mask               # (bs, 2**(d+1), n_leaves//2**(d+1) )\n",
    "        probs = torch.exp(probs).view(bs, -1, 1)\n",
    "        return probs"
   ]
  },
  {
   "cell_type": "markdown",
   "metadata": {},
   "source": [
    "## FFF with T and S matrices\n",
    "Replace layer by layer computation with two matrix multiplications and softmax"
   ]
  },
  {
   "cell_type": "code",
   "execution_count": 4,
   "metadata": {},
   "outputs": [],
   "source": [
    "def binary(x, bits):\n",
    "    'converts integer vector into binary with number of `bits`'\n",
    "    mask = 2**torch.arange(bits, device=x.device, dtype=x.dtype)\n",
    "    return x.unsqueeze(-1).bitwise_and(mask).ne(0).byte()\n",
    "\n",
    "class FFF2_probs(nn.Module):\n",
    "    def __init__(self, in_dim, depth, tree_act=nn.LogSigmoid(), topk=None, save_probs=True):\n",
    "        super().__init__()\n",
    "        store_attr('save_probs,tree_act,depth')\n",
    "        self.n = 2**depth\n",
    "        self.topk = topk or self.n\n",
    "        def uniform(shape, scale): \n",
    "            return nn.Parameter(torch.empty(shape).uniform_(-scale,scale))\n",
    "        self.nodes = uniform((self.n-1, in_dim), scale=1/sqrt(in_dim))\n",
    "        self.act = nn.ReLU()\n",
    "        self.t = self.init_t_()\n",
    "        self.s = self.init_s_()\n",
    "\n",
    "    def init_t_(self):\n",
    "        tree, res = torch.eye(self.n), []\n",
    "        for _ in range(self.depth): \n",
    "            res.append(tree)\n",
    "            tree = tree.view(self.n, -1, 2).sum(-1)\n",
    "        return nn.Parameter(torch.cat(list(reversed(res)),dim=1), False)\n",
    "\n",
    "    def init_s_(self):\n",
    "        s = torch.eye(self.n-1)\n",
    "        return nn.Parameter(torch.stack([s,-s], dim=2).view(self.n-1,2*(self.n-1)), False)\n",
    "\n",
    "    def forward(self, x):\n",
    "        bs = x.shape[0]\n",
    "        if self.training:\n",
    "            z = x.matmul(self.nodes.T).matmul(self.s)\n",
    "            z = self.tree_act(z).matmul(self.t.T)\n",
    "            if self.save_probs: self.probs = torch.softmax(z,-1)\n",
    "            probs, indices = z.topk(self.topk)\n",
    "            probs = torch.softmax(probs, dim=-1)\n",
    "        else:\n",
    "            indices = torch.zeros(bs, dtype=torch.long, device=x.device)\n",
    "            for _ in range(self.depth):\n",
    "                indices = indices*2 + 1 + (torch.einsum(\"b i, b i -> b\", x, self.nodes[indices])<0).long()\n",
    "            indices = indices[:,None] - self.n+1\n",
    "            probs = torch.ones(bs,1)\n",
    "        return probs"
   ]
  },
  {
   "cell_type": "markdown",
   "metadata": {},
   "source": [
    "## MoE"
   ]
  },
  {
   "cell_type": "code",
   "execution_count": 5,
   "metadata": {},
   "outputs": [],
   "source": [
    "class MoE_probs(nn.Module):\n",
    "    def __init__(self, in_dim, depth):\n",
    "        super().__init__()\n",
    "        self.n = 2**depth\n",
    "        def uniform(shape, scale): \n",
    "            return nn.Parameter(torch.empty(shape).uniform_(-scale,scale))\n",
    "        self.gate = uniform((self.n, in_dim), scale=1/sqrt(in_dim))\n",
    "\n",
    "    def forward(self, x):\n",
    "        z = x.matmul(self.gate.T)\n",
    "        return torch.softmax(z,-1)"
   ]
  },
  {
   "cell_type": "markdown",
   "metadata": {},
   "source": [
    "# CPU benchmarks"
   ]
  },
  {
   "cell_type": "code",
   "execution_count": 6,
   "metadata": {},
   "outputs": [],
   "source": [
    "in_dim = 28*28\n",
    "h_dim = 1024\n",
    "out_dim = 10\n",
    "d = 3\n",
    "bs = 32\n",
    "topk= 8\n",
    "dls = get_mnist_dls(bs)\n",
    "x = dls.one_batch()[0]"
   ]
  },
  {
   "cell_type": "code",
   "execution_count": 14,
   "metadata": {},
   "outputs": [],
   "source": [
    "from itertools import product\n",
    "from fastprogress import progress_bar\n",
    "from torch.utils import benchmark\n",
    "\n",
    "def benchmark_model(model_cls, inp_sizes=(2,32,128,1024), depths=(1,2,3), bs=32, cuda=False, show=False):\n",
    "    results = []\n",
    "    for s, d in progress_bar(product(inp_sizes, depths), total=len(inp_sizes)*len(depths)):\n",
    "        sub_label = f'inp, d: [{s}, {d}]'\n",
    "        m = model_cls(s, d)\n",
    "        x = torch.ones(bs, s)\n",
    "        if cuda: m,x = m.cuda(), x.cuda()\n",
    "        results.append(benchmark.Timer(\n",
    "            stmt='m(x)',\n",
    "            globals=locals(),\n",
    "            label=m._get_name(),\n",
    "            sub_label=sub_label,\n",
    "            description='time',\n",
    "        ).blocked_autorange(min_run_time=0.2))\n",
    "    if show: \n",
    "        compare = benchmark.Compare(results)\n",
    "        compare.print()\n",
    "    return results"
   ]
  },
  {
   "cell_type": "code",
   "execution_count": null,
   "metadata": {},
   "outputs": [],
   "source": [
    "inp_sizes = (1024,)\n",
    "depths = (1,2,3,4,5,6,7,8,9,10,11)\n",
    "models = {\"FFF orig\":FFF0_probs, \"FFF logs\": FFF1_probs, \"FFF T,S\":FFF2_probs, \"MoE\":MoE_probs}\n",
    "results = {\"FFF orig\":[], \"FFF logs\": [], \"FFF T,S\":[], \"MoE\":[]}\n",
    "for m in results:\n",
    "    results[m] =  benchmark_model(models[m], inp_sizes, depths)"
   ]
  },
  {
   "cell_type": "code",
   "execution_count": 9,
   "metadata": {},
   "outputs": [],
   "source": [
    "means = {m:L(res).map(lambda x: x.mean*1e3) for m, res in results.items()}"
   ]
  },
  {
   "cell_type": "code",
   "execution_count": 10,
   "metadata": {},
   "outputs": [
    {
     "data": {
      "text/plain": [
       "<matplotlib.legend.Legend at 0x7f56f505ff90>"
      ]
     },
     "execution_count": 10,
     "metadata": {},
     "output_type": "execute_result"
    },
    {
     "data": {
      "image/png": "[encoded data removed]",
      "text/plain": [
       "<Figure size 640x480 with 1 Axes>"
      ]
     },
     "metadata": {},
     "output_type": "display_data"
    }
   ],
   "source": [
    "import matplotlib.pyplot as plt\n",
    "for k,v in means.items():\n",
    "    plt.plot(depths, v, label = k)\n",
    "plt.ylabel('ms')\n",
    "plt.xlabel('depth')\n",
    "plt.grid()\n",
    "plt.legend()"
   ]
  },
  {
   "cell_type": "code",
   "execution_count": 16,
   "metadata": {},
   "outputs": [],
   "source": [
    "import wandb\n",
    "import os\n",
    "os.environ[\"WANDB_SILENT\"]='true'\n",
    "def export_to_wandb(means, depths, name='cpu d_inp=1024'):\n",
    "    for k, ms in means.items():\n",
    "        wandb.init(project='FFF', name=f'{name} {k}')\n",
    "        for d, m in zip(depths, ms):\n",
    "            wandb.log({\"time\": m, \"depth\": d})\n",
    "        wandb.finish()"
   ]
  },
  {
   "cell_type": "code",
   "execution_count": null,
   "metadata": {},
   "outputs": [],
   "source": [
    "export_to_wandb(means, depths)"
   ]
  },
  {
   "cell_type": "markdown",
   "metadata": {},
   "source": [
    "# CUDA benchmarks"
   ]
  },
  {
   "cell_type": "code",
   "execution_count": 15,
   "metadata": {},
   "outputs": [
    {
     "data": {
      "text/html": [
       "\n",
       "<style>\n",
       "    /* Turns off some styling */\n",
       "    progress {\n",
       "        /* gets rid of default border in Firefox and Opera. */\n",
       "        border: none;\n",
       "        /* Needs to be in here for Safari polyfill so background images work as expected. */\n",
       "        background-size: auto;\n",
       "    }\n",
       "    progress:not([value]), progress:not([value])::-webkit-progress-bar {\n",
       "        background: repeating-linear-gradient(45deg, #7e7e7e, #7e7e7e 10px, #5c5c5c 10px, #5c5c5c 20px);\n",
       "    }\n",
       "    .progress-bar-interrupted, .progress-bar-interrupted::-webkit-progress-bar {\n",
       "        background: #F44336;\n",
       "    }\n",
       "</style>\n"
      ],
      "text/plain": [
       "<IPython.core.display.HTML object>"
      ]
     },
     "metadata": {},
     "output_type": "display_data"
    },
    {
     "data": {
      "text/html": [
       "\n",
       "    <div>\n",
       "      <progress value='11' class='' max='11' style='width:300px; height:20px; vertical-align: middle;'></progress>\n",
       "      100.00% [11/11 00:05&lt;00:00]\n",
       "    </div>\n",
       "    "
      ],
      "text/plain": [
       "<IPython.core.display.HTML object>"
      ]
     },
     "metadata": {},
     "output_type": "display_data"
    },
    {
     "data": {
      "text/html": [
       "\n",
       "<style>\n",
       "    /* Turns off some styling */\n",
       "    progress {\n",
       "        /* gets rid of default border in Firefox and Opera. */\n",
       "        border: none;\n",
       "        /* Needs to be in here for Safari polyfill so background images work as expected. */\n",
       "        background-size: auto;\n",
       "    }\n",
       "    progress:not([value]), progress:not([value])::-webkit-progress-bar {\n",
       "        background: repeating-linear-gradient(45deg, #7e7e7e, #7e7e7e 10px, #5c5c5c 10px, #5c5c5c 20px);\n",
       "    }\n",
       "    .progress-bar-interrupted, .progress-bar-interrupted::-webkit-progress-bar {\n",
       "        background: #F44336;\n",
       "    }\n",
       "</style>\n"
      ],
      "text/plain": [
       "<IPython.core.display.HTML object>"
      ]
     },
     "metadata": {},
     "output_type": "display_data"
    },
    {
     "data": {
      "text/html": [
       "\n",
       "    <div>\n",
       "      <progress value='11' class='' max='11' style='width:300px; height:20px; vertical-align: middle;'></progress>\n",
       "      100.00% [11/11 00:04&lt;00:00]\n",
       "    </div>\n",
       "    "
      ],
      "text/plain": [
       "<IPython.core.display.HTML object>"
      ]
     },
     "metadata": {},
     "output_type": "display_data"
    },
    {
     "data": {
      "text/html": [
       "\n",
       "<style>\n",
       "    /* Turns off some styling */\n",
       "    progress {\n",
       "        /* gets rid of default border in Firefox and Opera. */\n",
       "        border: none;\n",
       "        /* Needs to be in here for Safari polyfill so background images work as expected. */\n",
       "        background-size: auto;\n",
       "    }\n",
       "    progress:not([value]), progress:not([value])::-webkit-progress-bar {\n",
       "        background: repeating-linear-gradient(45deg, #7e7e7e, #7e7e7e 10px, #5c5c5c 10px, #5c5c5c 20px);\n",
       "    }\n",
       "    .progress-bar-interrupted, .progress-bar-interrupted::-webkit-progress-bar {\n",
       "        background: #F44336;\n",
       "    }\n",
       "</style>\n"
      ],
      "text/plain": [
       "<IPython.core.display.HTML object>"
      ]
     },
     "metadata": {},
     "output_type": "display_data"
    },
    {
     "data": {
      "text/html": [
       "\n",
       "    <div>\n",
       "      <progress value='11' class='' max='11' style='width:300px; height:20px; vertical-align: middle;'></progress>\n",
       "      100.00% [11/11 00:05&lt;00:00]\n",
       "    </div>\n",
       "    "
      ],
      "text/plain": [
       "<IPython.core.display.HTML object>"
      ]
     },
     "metadata": {},
     "output_type": "display_data"
    },
    {
     "data": {
      "text/html": [
       "\n",
       "<style>\n",
       "    /* Turns off some styling */\n",
       "    progress {\n",
       "        /* gets rid of default border in Firefox and Opera. */\n",
       "        border: none;\n",
       "        /* Needs to be in here for Safari polyfill so background images work as expected. */\n",
       "        background-size: auto;\n",
       "    }\n",
       "    progress:not([value]), progress:not([value])::-webkit-progress-bar {\n",
       "        background: repeating-linear-gradient(45deg, #7e7e7e, #7e7e7e 10px, #5c5c5c 10px, #5c5c5c 20px);\n",
       "    }\n",
       "    .progress-bar-interrupted, .progress-bar-interrupted::-webkit-progress-bar {\n",
       "        background: #F44336;\n",
       "    }\n",
       "</style>\n"
      ],
      "text/plain": [
       "<IPython.core.display.HTML object>"
      ]
     },
     "metadata": {},
     "output_type": "display_data"
    },
    {
     "data": {
      "text/html": [
       "\n",
       "    <div>\n",
       "      <progress value='11' class='' max='11' style='width:300px; height:20px; vertical-align: middle;'></progress>\n",
       "      100.00% [11/11 00:05&lt;00:00]\n",
       "    </div>\n",
       "    "
      ],
      "text/plain": [
       "<IPython.core.display.HTML object>"
      ]
     },
     "metadata": {},
     "output_type": "display_data"
    }
   ],
   "source": [
    "inp_sizes = (1024,)\n",
    "depths = (1,2,3,4,5,6,7,8,9,10,11)\n",
    "models = {\"FFF orig\":FFF0_probs, \"FFF logs\": FFF1_probs, \"FFF T,S\":FFF2_probs, \"MoE\":MoE_probs}\n",
    "results = {\"FFF orig\":[], \"FFF logs\": [], \"FFF T,S\":[], \"MoE\":[]}\n",
    "for m in results: results[m] =  benchmark_model(models[m], inp_sizes, depths, cuda=True)"
   ]
  },
  {
   "cell_type": "code",
   "execution_count": 17,
   "metadata": {},
   "outputs": [
    {
     "data": {
      "text/plain": [
       "<matplotlib.legend.Legend at 0x7f56fba74610>"
      ]
     },
     "execution_count": 17,
     "metadata": {},
     "output_type": "execute_result"
    },
    {
     "data": {
      "image/png": "[encoded data removed]",
      "text/plain": [
       "<Figure size 640x480 with 1 Axes>"
      ]
     },
     "metadata": {},
     "output_type": "display_data"
    }
   ],
   "source": [
    "means = {m:L(res).map(lambda x: x.mean*1e3) for m, res in results.items()}\n",
    "import matplotlib.pyplot as plt\n",
    "for k,v in means.items():\n",
    "    plt.plot(depths, v, label = k)\n",
    "plt.ylabel('ms')\n",
    "plt.xlabel('depth')\n",
    "plt.grid()\n",
    "plt.legend()"
   ]
  },
  {
   "cell_type": "code",
   "execution_count": null,
   "metadata": {},
   "outputs": [],
   "source": [
    "export_to_wandb(means, depths, name='cuda d_inp=1024')"
   ]
  }
 ],
 "metadata": {
  "kernelspec": {
   "display_name": "Python 3",
   "language": "python",
   "name": "python3"
  },
  "language_info": {
   "codemirror_mode": {
    "name": "ipython",
    "version": 3
   },
   "file_extension": ".py",
   "mimetype": "text/x-python",
   "name": "python",
   "nbconvert_exporter": "python",
   "pygments_lexer": "ipython3",
   "version": "3.11.7"
  }
 },
 "nbformat": 4,
 "nbformat_minor": 2
}
