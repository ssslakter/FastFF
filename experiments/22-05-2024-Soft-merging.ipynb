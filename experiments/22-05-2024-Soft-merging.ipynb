{
 "cells": [
  {
   "cell_type": "code",
   "execution_count": null,
   "metadata": {},
   "outputs": [],
   "source": [
    "import torch as torch\n",
    "import torch.nn as nn\n",
    "from typing import Optional\n",
    "from math import floor, log2, sqrt\n",
    "import torch.nn.functional as F"
   ]
  },
  {
   "cell_type": "code",
   "execution_count": null,
   "metadata": {},
   "outputs": [],
   "source": [
    "class SoftMergingFFF(nn.Module):\n",
    "    def __init__(self, in_dim, out_dim, h_dim, depth, tree_act=nn.LogSigmoid(), topk=None, save_probs=False):\n",
    "        super().__init__()\n",
    "        self.save_probs, self.tree_act, self.depth = save_probs, tree_act, depth\n",
    "        self.n = 2**depth\n",
    "        self.topk = topk or self.n\n",
    "        def uniform(shape, scale): \n",
    "            return nn.Parameter(torch.empty(shape).uniform_(-scale,scale))\n",
    "        self.nodes = uniform((self.n-1, in_dim), scale=1/sqrt(in_dim))\n",
    "        self.w1 = uniform((self.n, h_dim, in_dim), scale=1/sqrt(in_dim))\n",
    "        self.w2 = uniform((self.n, out_dim, h_dim), scale=1/sqrt(h_dim))\n",
    "        self.act = nn.ReLU()\n",
    "        self.t = self.init_t_()\n",
    "\n",
    "    def init_t_(self):\n",
    "        tree, res = torch.eye(self.n), []\n",
    "        for _ in range(self.depth): \n",
    "            res.append(tree)\n",
    "            tree = tree.view(self.n, -1, 2).sum(-1)\n",
    "        return nn.Parameter(torch.cat(list(reversed(res)),dim=1), False)\n",
    "\n",
    "    def forward(self, x: torch.Tensor):\n",
    "        bs = x.shape[0]\n",
    "        if self.training:\n",
    "            # get probs for each node\n",
    "            z = x.matmul(self.nodes.T)\n",
    "            z = self.tree_act(torch.stack([-z, z],dim=2)).matmul(self.t.T)\n",
    "            probs = torch.softmax(probs, dim=-1)\n",
    "        else:\n",
    "            # select node with highest prob at each level\n",
    "            indices = torch.zeros(bs, dtype=torch.long, device=x.device)\n",
    "            for _ in range(self.depth):\n",
    "                indices = indices*2 + 1 + (torch.einsum(\"bi,bi->b\", x, self.nodes[indices])<0).long()\n",
    "            # map to leaves that range from 0\n",
    "            indices = indices - self.n+1\n",
    "            probs = F.one_hot(indices, self.n)\n",
    "        \n",
    "        # save probs for debugging and visualization\n",
    "        if self.save_probs: self.probs = torch.softmax(z,-1)\n",
    "        \n",
    "        # construct a merged expert in the first layer\n",
    "        w1 = torch.einsum('bkxy,bk->bxy', self.w1.repeat(bs,1,1,1), probs)\n",
    "        x = x[:,None].bmm(w1.T).squeeze(1)\n",
    "        \n",
    "        # similar for the next layer\n",
    "        w2 = torch.einsum('bkxy,bk->bxy', self.w2.repeat(bs,1,1,1), probs)\n",
    "        x = x[:,None].bmm(w2.T).squeeze(1)\n",
    "        return x"
   ]
  },
  {
   "attachments": {
    "image.png": {
     "image/png": "[encoded data removed]"
    }
   },
   "cell_type": "markdown",
   "metadata": {},
   "source": [
    "![image.png](attachment:image.png)"
   ]
  },
  {
   "cell_type": "markdown",
   "metadata": {},
   "source": [
    "B = batch_size\n",
    "M = n_routers\n",
    "N = num_adapters\n",
    "C = model_dim\n",
    "down_size = down_size"
   ]
  }
 ],
 "metadata": {
  "kernelspec": {
   "display_name": "python3",
   "language": "python",
   "name": "python3"
  }
 },
 "nbformat": 4,
 "nbformat_minor": 2
}
