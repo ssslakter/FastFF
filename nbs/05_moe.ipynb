{
 "cells": [
  {
   "cell_type": "markdown",
   "metadata": {},
   "source": [
    "# Mixture of Experts(MoE)"
   ]
  },
  {
   "cell_type": "code",
   "execution_count": null,
   "metadata": {},
   "outputs": [],
   "source": [
    "#|default_exp moe"
   ]
  },
  {
   "cell_type": "code",
   "execution_count": null,
   "metadata": {},
   "outputs": [],
   "source": [
    "#|export\n",
    "import math, torch, torch.nn.functional as F\n",
    "from torch import nn\n",
    "from fastai.vision.all import *"
   ]
  },
  {
   "cell_type": "code",
   "execution_count": null,
   "metadata": {},
   "outputs": [],
   "source": [
    "#|hide\n",
    "import torchvision.transforms as T\n",
    "import matplotlib as mpl, matplotlib.pyplot as plt\n",
    "import torch.optim as optim\n",
    "from fastai.vision.all import *\n",
    "from torchvision.datasets import MNIST\n",
    "from FastFF.performance import *\n",
    "from functools import wraps\n",
    "import wandb\n",
    "from fastai.callback.wandb import *"
   ]
  },
  {
   "cell_type": "code",
   "execution_count": null,
   "metadata": {},
   "outputs": [
    {
     "name": "stderr",
     "output_type": "stream",
     "text": [
      "Failed to detect the name of this notebook, you can set it manually with the WANDB_NOTEBOOK_NAME environment variable to enable code saving.\n",
      "\u001b[34m\u001b[1mwandb\u001b[0m: Currently logged in as: \u001b[33mslakter\u001b[0m. Use \u001b[1m`wandb login --relogin`\u001b[0m to force relogin\n"
     ]
    },
    {
     "data": {
      "text/plain": [
       "True"
      ]
     },
     "execution_count": null,
     "metadata": {},
     "output_type": "execute_result"
    }
   ],
   "source": [
    "#|hide\n",
    "set_seed(0)\n",
    "wandb.login()"
   ]
  },
  {
   "cell_type": "code",
   "execution_count": null,
   "metadata": {},
   "outputs": [],
   "source": [
    "#|export\n",
    "def lin(in_dim, out_dim, act=nn.ReLU, bias=True):\n",
    "    '''Linear layer followed by activation'''\n",
    "    if act is None: act = nn.Identity\n",
    "    return nn.Sequential(nn.Linear(in_dim, out_dim, bias), act())\n",
    "\n",
    "def mlp(in_dim, out_dim, hidden_dim=128, n_hidden=1, act=nn.ReLU, bias=True):\n",
    "    '''Multilayer perceptron with several hidden layers'''\n",
    "    if n_hidden==0: return lin(in_dim, out_dim, act, bias)\n",
    "    res = nn.Sequential(*lin(in_dim, hidden_dim, act, bias))\n",
    "    for _ in range(n_hidden-1): res+= lin(hidden_dim, hidden_dim, act, bias)\n",
    "    res += lin(hidden_dim, out_dim, act, bias)\n",
    "    return res"
   ]
  },
  {
   "cell_type": "code",
   "execution_count": null,
   "metadata": {},
   "outputs": [],
   "source": [
    "#|export\n",
    "# benchmark comparing nn.ModuleList and nn.Conv1d https://discuss.pytorch.org/t/parallel-execution-of-modules-in-nn-modulelist/43940/11\n",
    "class Experts(nn.ModuleList):\n",
    "    \"\"\"A class representing a collection of experts. Will compute weighted sum of results of topk experts depending on `selected_exps`\"\"\"\n",
    "    \n",
    "    def forward(self, x, routing_ws, selected_exps):\n",
    "        mask = F.one_hot(selected_exps, num_classes=len(self)).permute(2, 1, 0)\n",
    "        for i in range(len(self)):\n",
    "            idx, top_x = torch.where(mask[i])\n",
    "            if top_x.shape[0] == 0: continue\n",
    "            # in torch it is faster to index using lists than torch tensors\n",
    "            top_x_list = top_x.tolist()\n",
    "            res = self[i](x[top_x_list]) * routing_ws[top_x_list, idx.tolist(), None]\n",
    "            if 'out' not in locals(): out = torch.zeros((x.shape[0],*res.shape[1:]), device=x.device)\n",
    "            out.index_add_(0, top_x, res)\n",
    "        return out\n",
    "\n",
    "\n",
    "class MoE(nn.Module):\n",
    "    '''Mixture of experts network'''\n",
    "    def __init__(self, in_dim, out_dim, n_experts=4, top_k=4, hidden_dim=128, act=nn.ReLU):\n",
    "        super().__init__()\n",
    "        store_attr()\n",
    "        self.gate = lin(in_dim, n_experts, act=act, bias=False)\n",
    "        self.experts = Experts(mlp(in_dim,out_dim, hidden_dim, act=act) for _ in range(n_experts))\n",
    "    \n",
    "    def forward(self,x):\n",
    "        logits = self.gate(x)\n",
    "        routing_weights = F.softmax(logits, dim=1)\n",
    "        self.routing_weights = routing_weights\n",
    "        routing_weights, selected_exps = torch.topk(routing_weights, self.top_k, dim=-1)\n",
    "        routing_weights /= routing_weights.sum(dim=-1, keepdim=True)\n",
    "        return self.experts(x, routing_weights, selected_exps)"
   ]
  },
  {
   "cell_type": "code",
   "execution_count": null,
   "metadata": {},
   "outputs": [],
   "source": [
    "#|export\n",
    "class FFF(MoE):\n",
    "    def __init__(self, in_dim, out_dim, depth=2, top_k=4, hidden_dim = 128, act=nn.ReLU):\n",
    "        store_attr()\n",
    "        self.n_leaves = 2**depth\n",
    "        super().__init__(in_dim, out_dim, self.n_leaves, top_k, hidden_dim, act)\n",
    "        # override gate to have size 1 less\n",
    "        self.gate = lin(in_dim, self.n_leaves-1, act=act, bias=False)\n",
    "    \n",
    "    def forward(self, x):\n",
    "        bs = x.shape[0]\n",
    "        logits = self.gate(x)\n",
    "        logprobs = F.logsigmoid(torch.stack([-logits, logits],dim=2))     # (bs, n_leaves-1, 2)\n",
    "        leaf_distr = torch.zeros([bs,self.n_leaves], device=x.device)     # (bs, n_leaves)\n",
    "        for d in range(self.depth):\n",
    "            mask = logprobs[:, 2**d-1 : 2**(d+1)-1].view(bs,-1, 1)        # (bs, 2*2**d, 1)\n",
    "            leaf_distr = leaf_distr.view(bs, 2**(d+1), -1) + mask         # (bs, 2**(d+1), n_leaves//2**(d+1) )\n",
    "        leaf_distr = torch.exp(leaf_distr).view(bs, -1)\n",
    "        self.leaf_distr = leaf_distr.detach()\n",
    "        routing_weights, selected_exps = torch.topk(leaf_distr, self.top_k, dim=-1)\n",
    "        return self.experts(x, routing_weights, selected_exps)"
   ]
  },
  {
   "cell_type": "code",
   "execution_count": null,
   "metadata": {},
   "outputs": [],
   "source": [
    "#|export\n",
    "class InitFFF(MoE):\n",
    "    def __init__(self, in_dim, out_dim, depth=2, top_k=4, hidden_dim = 128, act=nn.ReLU):\n",
    "        store_attr()\n",
    "        self.n_leaves = 2**depth\n",
    "        self.tree = self.init_tree_()\n",
    "        super().__init__(in_dim, out_dim, self.n_leaves, top_k, hidden_dim, act)\n",
    "        # override gate to have size 1 less\n",
    "        self.gate = lin(in_dim, self.n_leaves-1, act=act, bias=False)\n",
    "    \n",
    "    def init_tree_(self):\n",
    "        masks = [torch.eye(self.n_leaves)]\n",
    "        for _ in range(self.depth-1): masks.append(masks[-1].view(-1, 2, self.n_leaves).sum(1))\n",
    "        return torch.cat(list(reversed(masks)),dim=0)   # (2*n_leaves-2, n_leaves)\n",
    "    \n",
    "    def forward(self, x):\n",
    "        bs = x.shape[0]\n",
    "        logits = self.gate(x)\n",
    "        logprobs = F.logsigmoid(torch.stack([-logits, logits],dim=2).view(bs,-1))     # (bs, 2*n_leaves-2)\n",
    "        leaf_distr = torch.exp(torch.matmul(logprobs, self.tree))\n",
    "        self.leaf_distr = leaf_distr.detach()\n",
    "        routing_weights, selected_exps = torch.topk(leaf_distr, self.top_k, dim=-1)\n",
    "        return self.experts(x, routing_weights, selected_exps)"
   ]
  },
  {
   "cell_type": "code",
   "execution_count": null,
   "metadata": {},
   "outputs": [],
   "source": [
    "#|hide\n",
    "#|eval: false\n",
    "\n",
    "n=4\n",
    "h=64\n",
    "topk=4\n",
    "bs = 512 \n",
    "\n",
    "model = MoE(28*28, 10, n, topk, hidden_dim=h)\n",
    "ds = get_mnist_ds()\n",
    "cbs = [GetGradCB([model.experts[0][0]]), ShowGraphCallback()]\n",
    "dls = DataLoaders(TfmdDL(ds[0], bs, True),TfmdDL(ds[1], bs, False))\n",
    "learn = Learner(dls, model, loss_func=F.cross_entropy, metrics=accuracy, opt_func = Adam)"
   ]
  },
  {
   "cell_type": "code",
   "execution_count": null,
   "metadata": {},
   "outputs": [
    {
     "data": {
      "text/html": [
       "\n",
       "<style>\n",
       "    /* Turns off some styling */\n",
       "    progress {\n",
       "        /* gets rid of default border in Firefox and Opera. */\n",
       "        border: none;\n",
       "        /* Needs to be in here for Safari polyfill so background images work as expected. */\n",
       "        background-size: auto;\n",
       "    }\n",
       "    progress:not([value]), progress:not([value])::-webkit-progress-bar {\n",
       "        background: repeating-linear-gradient(45deg, #7e7e7e, #7e7e7e 10px, #5c5c5c 10px, #5c5c5c 20px);\n",
       "    }\n",
       "    .progress-bar-interrupted, .progress-bar-interrupted::-webkit-progress-bar {\n",
       "        background: #F44336;\n",
       "    }\n",
       "</style>\n"
      ],
      "text/plain": [
       "<IPython.core.display.HTML object>"
      ]
     },
     "metadata": {},
     "output_type": "display_data"
    },
    {
     "data": {
      "text/html": [
       "<table border=\"1\" class=\"dataframe\">\n",
       "  <thead>\n",
       "    <tr style=\"text-align: left;\">\n",
       "      <th>epoch</th>\n",
       "      <th>train_loss</th>\n",
       "      <th>valid_loss</th>\n",
       "      <th>accuracy</th>\n",
       "      <th>time</th>\n",
       "    </tr>\n",
       "  </thead>\n",
       "  <tbody>\n",
       "    <tr>\n",
       "      <td>0</td>\n",
       "      <td>0.642503</td>\n",
       "      <td>0.299578</td>\n",
       "      <td>0.913800</td>\n",
       "      <td>00:14</td>\n",
       "    </tr>\n",
       "    <tr>\n",
       "      <td>1</td>\n",
       "      <td>0.258853</td>\n",
       "      <td>0.185443</td>\n",
       "      <td>0.944100</td>\n",
       "      <td>00:12</td>\n",
       "    </tr>\n",
       "    <tr>\n",
       "      <td>2</td>\n",
       "      <td>0.166853</td>\n",
       "      <td>0.166852</td>\n",
       "      <td>0.951000</td>\n",
       "      <td>00:12</td>\n",
       "    </tr>\n",
       "    <tr>\n",
       "      <td>3</td>\n",
       "      <td>0.119807</td>\n",
       "      <td>0.123841</td>\n",
       "      <td>0.963700</td>\n",
       "      <td>00:11</td>\n",
       "    </tr>\n",
       "    <tr>\n",
       "      <td>4</td>\n",
       "      <td>0.094167</td>\n",
       "      <td>0.112666</td>\n",
       "      <td>0.965300</td>\n",
       "      <td>00:13</td>\n",
       "    </tr>\n",
       "    <tr>\n",
       "      <td>5</td>\n",
       "      <td>0.071150</td>\n",
       "      <td>0.121141</td>\n",
       "      <td>0.964400</td>\n",
       "      <td>00:12</td>\n",
       "    </tr>\n",
       "    <tr>\n",
       "      <td>6</td>\n",
       "      <td>0.057223</td>\n",
       "      <td>0.101072</td>\n",
       "      <td>0.971700</td>\n",
       "      <td>00:14</td>\n",
       "    </tr>\n",
       "    <tr>\n",
       "      <td>7</td>\n",
       "      <td>0.046907</td>\n",
       "      <td>0.096758</td>\n",
       "      <td>0.973100</td>\n",
       "      <td>00:13</td>\n",
       "    </tr>\n",
       "    <tr>\n",
       "      <td>8</td>\n",
       "      <td>0.033667</td>\n",
       "      <td>0.096827</td>\n",
       "      <td>0.973200</td>\n",
       "      <td>00:13</td>\n",
       "    </tr>\n",
       "    <tr>\n",
       "      <td>9</td>\n",
       "      <td>0.022518</td>\n",
       "      <td>0.090585</td>\n",
       "      <td>0.975100</td>\n",
       "      <td>00:16</td>\n",
       "    </tr>\n",
       "    <tr>\n",
       "      <td>10</td>\n",
       "      <td>0.014522</td>\n",
       "      <td>0.081230</td>\n",
       "      <td>0.976800</td>\n",
       "      <td>00:13</td>\n",
       "    </tr>\n",
       "    <tr>\n",
       "      <td>11</td>\n",
       "      <td>0.010152</td>\n",
       "      <td>0.086836</td>\n",
       "      <td>0.977100</td>\n",
       "      <td>00:13</td>\n",
       "    </tr>\n",
       "    <tr>\n",
       "      <td>12</td>\n",
       "      <td>0.007022</td>\n",
       "      <td>0.086352</td>\n",
       "      <td>0.978200</td>\n",
       "      <td>00:15</td>\n",
       "    </tr>\n",
       "    <tr>\n",
       "      <td>13</td>\n",
       "      <td>0.006088</td>\n",
       "      <td>0.085488</td>\n",
       "      <td>0.978300</td>\n",
       "      <td>00:19</td>\n",
       "    </tr>\n",
       "    <tr>\n",
       "      <td>14</td>\n",
       "      <td>0.005299</td>\n",
       "      <td>0.084758</td>\n",
       "      <td>0.978100</td>\n",
       "      <td>00:16</td>\n",
       "    </tr>\n",
       "  </tbody>\n",
       "</table>"
      ],
      "text/plain": [
       "<IPython.core.display.HTML object>"
      ]
     },
     "metadata": {},
     "output_type": "display_data"
    }
   ],
   "source": [
    "learn.fit_one_cycle(15, lr_max=4e-3)"
   ]
  },
  {
   "cell_type": "code",
   "execution_count": null,
   "metadata": {},
   "outputs": [
    {
     "data": {
      "image/png": "[encoded data removed]",
      "text/plain": [
       "<Figure size 800x600 with 1 Axes>"
      ]
     },
     "metadata": {},
     "output_type": "display_data"
    }
   ],
   "source": [
    "#|eval: false\n",
    "cbs[1].show(model.experts[0][0], lambda x: x.abs().mean((1,2))[:,None])"
   ]
  },
  {
   "cell_type": "code",
   "execution_count": null,
   "metadata": {},
   "outputs": [],
   "source": [
    "#|hide\n",
    "#|eval: false\n",
    "d, l = 2, 64\n",
    "topk = 4\n",
    "\n",
    "model = FFF(28*28, 10, d, topk, hidden_dim=l)\n",
    "cbs = [FFFLeavesDistCB('leaf_distr'), GetGradCB(['weight'], model.gate[0]), ShowGraphCallback()]\n",
    "learn = Learner(dls, model, loss_func=F.cross_entropy, metrics=accuracy, opt_func = Adam, cbs=cbs)"
   ]
  },
  {
   "cell_type": "code",
   "execution_count": null,
   "metadata": {},
   "outputs": [
    {
     "data": {
      "text/html": [
       "\n",
       "<style>\n",
       "    /* Turns off some styling */\n",
       "    progress {\n",
       "        /* gets rid of default border in Firefox and Opera. */\n",
       "        border: none;\n",
       "        /* Needs to be in here for Safari polyfill so background images work as expected. */\n",
       "        background-size: auto;\n",
       "    }\n",
       "    progress:not([value]), progress:not([value])::-webkit-progress-bar {\n",
       "        background: repeating-linear-gradient(45deg, #7e7e7e, #7e7e7e 10px, #5c5c5c 10px, #5c5c5c 20px);\n",
       "    }\n",
       "    .progress-bar-interrupted, .progress-bar-interrupted::-webkit-progress-bar {\n",
       "        background: #F44336;\n",
       "    }\n",
       "</style>\n"
      ],
      "text/plain": [
       "<IPython.core.display.HTML object>"
      ]
     },
     "metadata": {},
     "output_type": "display_data"
    },
    {
     "data": {
      "text/html": [
       "<table border=\"1\" class=\"dataframe\">\n",
       "  <thead>\n",
       "    <tr style=\"text-align: left;\">\n",
       "      <th>epoch</th>\n",
       "      <th>train_loss</th>\n",
       "      <th>valid_loss</th>\n",
       "      <th>accuracy</th>\n",
       "      <th>time</th>\n",
       "    </tr>\n",
       "  </thead>\n",
       "  <tbody>\n",
       "    <tr>\n",
       "      <td>0</td>\n",
       "      <td>0.540402</td>\n",
       "      <td>0.268098</td>\n",
       "      <td>0.922300</td>\n",
       "      <td>00:21</td>\n",
       "    </tr>\n",
       "    <tr>\n",
       "      <td>1</td>\n",
       "      <td>0.228258</td>\n",
       "      <td>0.172096</td>\n",
       "      <td>0.949400</td>\n",
       "      <td>00:21</td>\n",
       "    </tr>\n",
       "    <tr>\n",
       "      <td>2</td>\n",
       "      <td>0.149986</td>\n",
       "      <td>0.134052</td>\n",
       "      <td>0.954900</td>\n",
       "      <td>00:20</td>\n",
       "    </tr>\n",
       "    <tr>\n",
       "      <td>3</td>\n",
       "      <td>0.110361</td>\n",
       "      <td>0.093774</td>\n",
       "      <td>0.970900</td>\n",
       "      <td>00:21</td>\n",
       "    </tr>\n",
       "    <tr>\n",
       "      <td>4</td>\n",
       "      <td>0.083525</td>\n",
       "      <td>0.101393</td>\n",
       "      <td>0.971200</td>\n",
       "      <td>00:23</td>\n",
       "    </tr>\n",
       "    <tr>\n",
       "      <td>5</td>\n",
       "      <td>0.066644</td>\n",
       "      <td>0.091127</td>\n",
       "      <td>0.973600</td>\n",
       "      <td>00:25</td>\n",
       "    </tr>\n",
       "    <tr>\n",
       "      <td>6</td>\n",
       "      <td>0.050835</td>\n",
       "      <td>0.094991</td>\n",
       "      <td>0.974000</td>\n",
       "      <td>00:27</td>\n",
       "    </tr>\n",
       "    <tr>\n",
       "      <td>7</td>\n",
       "      <td>0.038467</td>\n",
       "      <td>0.081133</td>\n",
       "      <td>0.977600</td>\n",
       "      <td>00:24</td>\n",
       "    </tr>\n",
       "    <tr>\n",
       "      <td>8</td>\n",
       "      <td>0.026558</td>\n",
       "      <td>0.087659</td>\n",
       "      <td>0.977300</td>\n",
       "      <td>00:23</td>\n",
       "    </tr>\n",
       "    <tr>\n",
       "      <td>9</td>\n",
       "      <td>0.018021</td>\n",
       "      <td>0.078524</td>\n",
       "      <td>0.978900</td>\n",
       "      <td>00:30</td>\n",
       "    </tr>\n",
       "    <tr>\n",
       "      <td>10</td>\n",
       "      <td>0.011336</td>\n",
       "      <td>0.074912</td>\n",
       "      <td>0.981200</td>\n",
       "      <td>00:27</td>\n",
       "    </tr>\n",
       "    <tr>\n",
       "      <td>11</td>\n",
       "      <td>0.005212</td>\n",
       "      <td>0.074925</td>\n",
       "      <td>0.980400</td>\n",
       "      <td>02:58</td>\n",
       "    </tr>\n",
       "    <tr>\n",
       "      <td>12</td>\n",
       "      <td>0.003351</td>\n",
       "      <td>0.075865</td>\n",
       "      <td>0.981800</td>\n",
       "      <td>03:07</td>\n",
       "    </tr>\n",
       "    <tr>\n",
       "      <td>13</td>\n",
       "      <td>0.002193</td>\n",
       "      <td>0.075632</td>\n",
       "      <td>0.982000</td>\n",
       "      <td>00:30</td>\n",
       "    </tr>\n",
       "    <tr>\n",
       "      <td>14</td>\n",
       "      <td>0.001924</td>\n",
       "      <td>0.075825</td>\n",
       "      <td>0.981800</td>\n",
       "      <td>00:25</td>\n",
       "    </tr>\n",
       "  </tbody>\n",
       "</table>"
      ],
      "text/plain": [
       "<IPython.core.display.HTML object>"
      ]
     },
     "metadata": {},
     "output_type": "display_data"
    },
    {
     "data": {
      "image/png": "[encoded data removed]",
      "text/plain": [
       "<Figure size 600x400 with 1 Axes>"
      ]
     },
     "metadata": {},
     "output_type": "display_data"
    }
   ],
   "source": [
    "#|eval: false\n",
    "learn.fit_one_cycle(15, lr_max=7e-3);"
   ]
  },
  {
   "cell_type": "markdown",
   "metadata": {},
   "source": [
    "## Run sweep"
   ]
  },
  {
   "cell_type": "code",
   "execution_count": null,
   "metadata": {},
   "outputs": [],
   "source": [
    "def run_sweep(train_ds, test_ds, prm_model,sweep_cfg,\n",
    "              metrics = accuracy,\n",
    "              loss = F.cross_entropy,\n",
    "              opt = Adam,\n",
    "              cfg = None,\n",
    "              before_learn_cb=None,\n",
    "              after_learn_cb = None,\n",
    "              project=None, count=5, seed=0):\n",
    "    def _f(cfg=cfg):\n",
    "        with wandb.init(config=cfg):\n",
    "            if seed is not None: set_seed(seed)\n",
    "            cfg = wandb.config\n",
    "            model = prm_model(**cfg.model)\n",
    "            dls = DataLoaders(TfmdDL(train_ds, cfg.bs, True,0 ),TfmdDL(test_ds, cfg.bs, False, 0 ))\n",
    "            learn = Learner(dls, model, loss_func=loss, metrics=metrics, opt_func = opt)\n",
    "            if before_learn_cb: before_learn_cb(learn, model, dls)\n",
    "            learn.fit_one_cycle(cfg.epochs, **cfg.learn)\n",
    "            if after_learn_cb: after_learn_cb(learn, model, dls)\n",
    "    \n",
    "    sweep_id = wandb.sweep(sweep_cfg, project=project)\n",
    "    wandb.agent(sweep_id, _f, count=count)"
   ]
  },
  {
   "cell_type": "code",
   "execution_count": null,
   "metadata": {},
   "outputs": [],
   "source": [
    "sweep_cfg = {\n",
    "    'name': 'moe',\n",
    "    'method': 'random',\n",
    "    'metric':{'name': 'valid_loss','goal':'minimize'},\n",
    "    'parameters':{\n",
    "        'bs': {'value': 512},\n",
    "        'learn':{'parameters':{'lr_max': {'value':4e-3}}},\n",
    "        'model':{'parameters':{\n",
    "            'h': {'value': 64},\n",
    "            'd': {'value': 3},\n",
    "            'mtype': {'values': ['FFF', 'MOE']},\n",
    "            'topk': {'values': [1,2,3,4,5,6,7,8]}\n",
    "            }},\n",
    "        'epochs': {'value': 10}\n",
    "    }\n",
    "}\n",
    "\n",
    "def get_model(mtype, d, h, topk):\n",
    "    topk = min(topk, 2**d)\n",
    "    if mtype=='FFF':\n",
    "        return InitFFF(28*28, 10, d, topk, h)\n",
    "    if mtype=='MOE':\n",
    "        return MoE(28*28, 10, 2**d, topk, h)\n",
    "\n",
    "def before_learn(learn, model, dls):\n",
    "    model.n_leaves = model.n_experts\n",
    "    attr = 'routing_weights' if type(model) == MoE else 'leaf_distr'\n",
    "    learn.add_cbs([FFFLeavesDistCB(attr, wandb = True, sample_size=100), WandbCallback(log_preds=False)])\n",
    "\n",
    "def after_learn(learn, model, dls):\n",
    "    wandb.log({'topk_k':model.top_k})"
   ]
  },
  {
   "cell_type": "code",
   "execution_count": null,
   "metadata": {},
   "outputs": [],
   "source": [
    "run_sweep(*get_mnist_ds(), get_model, sweep_cfg, before_learn_cb=before_learn, after_learn_cb=after_learn, project=\"FFF\", count=10)"
   ]
  }
 ],
 "metadata": {
  "kernelspec": {
   "display_name": "python3",
   "language": "python",
   "name": "python3"
  }
 },
 "nbformat": 4,
 "nbformat_minor": 2
}
