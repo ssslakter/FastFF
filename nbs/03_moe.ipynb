{
 "cells": [
  {
   "cell_type": "markdown",
   "metadata": {},
   "source": [
    "# Mixture of Experts(MoE)"
   ]
  },
  {
   "cell_type": "code",
   "execution_count": null,
   "metadata": {},
   "outputs": [],
   "source": [
    "#|default_exp moe"
   ]
  },
  {
   "cell_type": "code",
   "execution_count": null,
   "metadata": {},
   "outputs": [],
   "source": [
    "#|export\n",
    "import math, torch, matplotlib as mpl, matplotlib.pyplot as plt\n",
    "from torch import nn\n",
    "from fastai.vision.all import *"
   ]
  },
  {
   "cell_type": "code",
   "execution_count": null,
   "metadata": {},
   "outputs": [],
   "source": [
    "#|hide\n",
    "import math\n",
    "import torch\n",
    "import torchvision.transforms as T\n",
    "import matplotlib as mpl\n",
    "import torch.nn as nn, torch.nn.functional as F, torch.optim as optim\n",
    "from fastai.vision.all import *\n",
    "from torchvision.datasets import MNIST"
   ]
  },
  {
   "cell_type": "code",
   "execution_count": null,
   "metadata": {},
   "outputs": [],
   "source": [
    "#|hide\n",
    "set_seed(0)\n",
    "n_cores = num_cpus()\n",
    "\n",
    "\n",
    "bs = 256 # batch size\n",
    "h = 256"
   ]
  },
  {
   "cell_type": "code",
   "execution_count": null,
   "metadata": {},
   "outputs": [],
   "source": [
    "#|hide\n",
    "mean, std = 0.130652368068695068, 0.307504087686538696\n",
    "\n",
    "train_dataset = MNIST('../data', train=True, download=True,\n",
    "                             transform=T.Compose([\n",
    "                                 T.ToTensor(),\n",
    "                                 T.Normalize((mean,), (std,)),T.Lambda(lambda x: x.view(-1,28*28).squeeze())]))\n",
    "test_dataset = MNIST('../data', train=False, download=True,\n",
    "                            transform=T.Compose([\n",
    "                                T.ToTensor(),\n",
    "                                T.Normalize((mean,), (std,)),T.Lambda(lambda x: x.view(-1,28*28).squeeze())]))\n",
    "dls = DataLoaders(TfmdDL(train_dataset, bs, True, n_cores),TfmdDL(test_dataset, bs, False, n_cores))"
   ]
  },
  {
   "cell_type": "code",
   "execution_count": null,
   "metadata": {},
   "outputs": [],
   "source": [
    "#|hide\n",
    "class MoE(nn.Module):\n",
    "    def __init__(self, in_len, out_len, n_exps=4, act=nn.ReLU):\n",
    "        self.act = act()\n",
    "        self.n = n_exps\n",
    "        self.router = nn.Linear(in_len, self.n)\n",
    "        self.experts = nn.Linear(in_len, self.n*out_len)"
   ]
  }
 ],
 "metadata": {
  "kernelspec": {
   "display_name": "python3",
   "language": "python",
   "name": "python3"
  }
 },
 "nbformat": 4,
 "nbformat_minor": 2
}
