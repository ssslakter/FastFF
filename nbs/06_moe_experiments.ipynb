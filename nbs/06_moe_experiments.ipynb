{
 "cells": [
  {
   "cell_type": "code",
   "execution_count": null,
   "metadata": {},
   "outputs": [],
   "source": [
    "#|hide\n",
    "import torchvision.transforms as T\n",
    "import matplotlib as mpl, matplotlib.pyplot as plt\n",
    "import torch.optim as optim\n",
    "from fastai.vision.all import *\n",
    "from torchvision.datasets import MNIST\n",
    "from functools import wraps\n",
    "import wandb\n",
    "from fastai.callback.wandb import *\n",
    "from FastFF.performance import *\n",
    "from FastFF.moe import *"
   ]
  },
  {
   "cell_type": "code",
   "execution_count": null,
   "metadata": {},
   "outputs": [],
   "source": [
    "#|hide\n",
    "set_seed(0)\n",
    "wandb.login()"
   ]
  },
  {
   "cell_type": "code",
   "execution_count": null,
   "metadata": {},
   "outputs": [],
   "source": [
    "#|hide\n",
    "#|eval: false\n",
    "\n",
    "n=4\n",
    "h=64\n",
    "topk=4\n",
    "bs = 512 \n",
    "\n",
    "model = MoE(28*28, 10, n, topk, hidden_dim=h)\n",
    "ds = get_mnist_ds()\n",
    "cbs = [GetGradCB([model.experts[0][0]]), ShowGraphCallback()]\n",
    "dls = DataLoaders(TfmdDL(ds[0], bs, True),TfmdDL(ds[1], bs, False))\n",
    "learn = Learner(dls, model, loss_func=F.cross_entropy, metrics=accuracy, opt_func = Adam)"
   ]
  },
  {
   "cell_type": "code",
   "execution_count": null,
   "metadata": {},
   "outputs": [],
   "source": [
    "learn.fit_one_cycle(15, lr_max=4e-3)"
   ]
  },
  {
   "cell_type": "code",
   "execution_count": null,
   "metadata": {},
   "outputs": [],
   "source": [
    "#|eval: false\n",
    "cbs[1].show(model.experts[0][0], lambda x: x.abs().mean((1,2))[:,None])"
   ]
  },
  {
   "cell_type": "code",
   "execution_count": null,
   "metadata": {},
   "outputs": [],
   "source": [
    "#|hide\n",
    "#|eval: false\n",
    "d, l = 2, 64\n",
    "topk = 4\n",
    "\n",
    "model = FFF(28*28, 10, d, topk, hidden_dim=l)\n",
    "cbs = [FFFLeavesDistCB('leaf_distr'), GetGradCB(['weight'], model.gate[0]), ShowGraphCallback()]\n",
    "learn = Learner(dls, model, loss_func=F.cross_entropy, metrics=accuracy, opt_func = Adam, cbs=cbs)"
   ]
  },
  {
   "cell_type": "code",
   "execution_count": null,
   "metadata": {},
   "outputs": [],
   "source": [
    "#|eval: false\n",
    "learn.fit_one_cycle(15, lr_max=7e-3);"
   ]
  }
 ],
 "metadata": {
  "kernelspec": {
   "display_name": "python3",
   "language": "python",
   "name": "python3"
  }
 },
 "nbformat": 4,
 "nbformat_minor": 2
}
